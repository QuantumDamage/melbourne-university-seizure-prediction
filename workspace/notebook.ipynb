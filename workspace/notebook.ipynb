﻿{
 "metadata": {
  "kernelspec": {
   "display_name": "Python 3",
   "language": "python",
   "name": "python3"
  },
  "language_info": {
   "codemirror_mode": {
    "name": "ipython",
    "version": 3
   },
   "file_extension": ".py",
   "mimetype": "text/x-python",
   "name": "python",
   "nbconvert_exporter": "python",
   "pygments_lexer": "ipython3",
   "version": "3.5.2"
  }
 },
 "nbformat": 4,
 "nbformat_minor": 0,
 "cells": [
  {
   "cell_type": "markdown",
   "source": "I'm not sure if it will be possible , but I will try to use TensorFlow and see if it will work.",
   "metadata": {}
  },
  {
   "cell_type": "code",
   "source": "import scipy.io as sio\nimport matplotlib.pyplot as plt\nimport numpy as np\nimport glob\nfrom sklearn.cross_validation import train_test_split\nimport pandas as pd\nimport re\nimport os\nimport random",
   "execution_count": 1,
   "outputs": [],
   "metadata": {}
  },
  {
   "cell_type": "code",
   "source": "preictal_train_1_file_list = glob.glob(\"../input/train_1/*_1.mat\")\ninterictal_train_1_file_list = glob.glob(\"../input/train_1/*_0.mat\")\nall_train_1_file_list = glob.glob(\"../input/train_1/*.mat\")\nlen(all_train_1_file_list)",
   "execution_count": 2,
   "outputs": [],
   "metadata": {}
  },
  {
   "cell_type": "code",
   "source": "\nlen(preictal_train_1_file_list) + len(interictal_train_1_file_list) == len(all_train_1_file_list)",
   "execution_count": 3,
   "outputs": [],
   "metadata": {}
  },
  {
   "cell_type": "code",
   "source": "preictal_train, preictal_test = train_test_split(preictal_train_1_file_list, test_size=0.1)\ninterictal_train, interictal_test = train_test_split(interictal_train_1_file_list, test_size=len(interictal_train_1_file_list)-len(preictal_train))",
   "execution_count": 4,
   "outputs": [],
   "metadata": {}
  },
  {
   "cell_type": "code",
   "source": "print(len(preictal_train))\nprint(len(preictal_test))\nprint(len(interictal_train))\nprint(len(interictal_test))\n#len(set(preictal_train + preictal_test + interictal_train + interictal_test))",
   "execution_count": 5,
   "outputs": [],
   "metadata": {}
  },
  {
   "cell_type": "code",
   "source": "train = pd.DataFrame(preictal_train + interictal_train, columns=[\"filename\"])\ntest = pd.DataFrame(preictal_test + interictal_test, columns=[\"filename\"])",
   "execution_count": 6,
   "outputs": [],
   "metadata": {}
  },
  {
   "cell_type": "code",
   "source": "train[\"type\"] = train[\"filename\"].str.extract('.*(\\d+)\\.mat$', expand=False)\ntest[\"type\"] = test[\"filename\"].str.extract('.*(\\d+)\\.mat$', expand=False)",
   "execution_count": 7,
   "outputs": [],
   "metadata": {}
  },
  {
   "cell_type": "code",
   "source": "interictal_example = sio.loadmat('../input/train_1/1_1_0.mat')\npreictal_example = sio.loadmat('../input/train_1/1_1_1.mat')",
   "execution_count": 8,
   "outputs": [],
   "metadata": {}
  },
  {
   "cell_type": "code",
   "source": "interictal_example_data = interictal_example[\"dataStruct\"][0][0][0]\npreictal_example_data = preictal_example[\"dataStruct\"][0][0][0]",
   "execution_count": 9,
   "outputs": [],
   "metadata": {}
  },
  {
   "cell_type": "code",
   "source": "preictal_example_data[:,0]",
   "execution_count": 10,
   "outputs": [],
   "metadata": {}
  },
  {
   "cell_type": "markdown",
   "source": "Generate sample random submission",
   "metadata": {}
  },
  {
   "cell_type": "code",
   "source": "submission = pd.read_csv(\"../input/sample_submission.csv\")",
   "execution_count": 11,
   "outputs": [],
   "metadata": {}
  },
  {
   "cell_type": "code",
   "source": "submission[\"Class\"] = np.random.randint(0,2,size=len(submission[\"Class\"]))",
   "execution_count": 12,
   "outputs": [],
   "metadata": {}
  },
  {
   "cell_type": "code",
   "source": "submission.describe()",
   "execution_count": 13,
   "outputs": [],
   "metadata": {}
  },
  {
   "cell_type": "code",
   "source": "submission.to_csv(\"submission.csv\", index=False)",
   "execution_count": 14,
   "outputs": [],
   "metadata": {}
  }
 ]
}
